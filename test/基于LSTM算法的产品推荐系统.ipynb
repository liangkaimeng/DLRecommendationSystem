{
 "cells": [
  {
   "cell_type": "markdown",
   "id": "ec166615-6a19-4503-81fd-8a4f39c7fbb8",
   "metadata": {},
   "source": [
    "<font size=4 fonc=\"仿宋\" color=blue>第1步：导入模块与设置环境</font>"
   ]
  },
  {
   "cell_type": "code",
   "execution_count": null,
   "id": "e5020998-d393-4d45-baac-29102e3c957b",
   "metadata": {},
   "outputs": [],
   "source": [
    "%%time\n",
    "import warnings\n",
    "warnings.filterwarnings(\"ignore\")\n",
    "\n",
    "import os\n",
    "os.environ[\"CUDA_VISIBLE_DEVICES\"] = '0'\n",
    "\n",
    "import numpy as np\n",
    "import pandas as pd\n",
    "import tensorflow as tf\n",
    "from tensorflow.keras import Sequential, layers, utils\n",
    "from sklearn.model_selection import train_test_split"
   ]
  },
  {
   "cell_type": "markdown",
   "id": "ea402b74-03e5-41d9-a11c-0c196043fc19",
   "metadata": {},
   "source": [
    "<font size=4 fonc=\"仿宋\" color=blue>第2步：加载数据</font>"
   ]
  },
  {
   "cell_type": "code",
   "execution_count": null,
   "id": "92dd1d19-d61d-4f6a-9353-e3e9564fadd4",
   "metadata": {},
   "outputs": [],
   "source": [
    "%%time\n",
    "data = pd.read_csv(\"../data/bike_data.csv\", encoding=\"gbk\")\n",
    "data.head()"
   ]
  },
  {
   "cell_type": "markdown",
   "id": "7d645734-e34a-4ba1-8488-1b8873883e4f",
   "metadata": {},
   "source": [
    "<font size=4 fonc=\"仿宋\" color=blue>第3步：数据清洗</font>"
   ]
  },
  {
   "cell_type": "code",
   "execution_count": null,
   "id": "bc39eaaa-54d2-4b3e-8cb6-8dba8aa8ce5e",
   "metadata": {},
   "outputs": [],
   "source": [
    "len(data.Model.unique().tolist())"
   ]
  },
  {
   "cell_type": "code",
   "execution_count": null,
   "id": "528fbc1a-6432-4035-be6a-f352416f534f",
   "metadata": {},
   "outputs": [],
   "source": [
    "data['Model'] = data['Model'].astype(str).apply(lambda x: x.replace(\"Women's Mountain Shorts\", '未知名称'))\n",
    "data['Model'] = data['Model'].astype(str).apply(lambda x: x.replace(\"(\", \"\"))\n",
    "data['Model'] = data['Model'].astype(str).apply(lambda x: x.replace(\")\", \"\"))\n",
    "data['Model'] = data['Model'].astype(str).apply(lambda x: x + \" \")\n",
    "data.head()"
   ]
  },
  {
   "cell_type": "markdown",
   "id": "eca46008-6897-4bb9-836e-377850612e88",
   "metadata": {},
   "source": [
    "<font size=4 fonc=\"仿宋\" color=blue>第4步：合并数据集，形成长文本</font>"
   ]
  },
  {
   "cell_type": "code",
   "execution_count": null,
   "id": "fc078b79-465f-497a-a060-c6038887c662",
   "metadata": {},
   "outputs": [],
   "source": [
    "%%time\n",
    "df = data.groupby(['OrderNumber'])['Model'].sum().reset_index()\n",
    "df['Model'] = df['Model'].astype(str).apply(lambda x: x.strip())\n",
    "df.head()"
   ]
  },
  {
   "cell_type": "code",
   "execution_count": null,
   "id": "7658f57e",
   "metadata": {},
   "outputs": [],
   "source": [
    "df['count'] = df['Model'].astype(str).apply(lambda x: x.split(' ')).apply(len)\n",
    "df.head()"
   ]
  },
  {
   "cell_type": "code",
   "execution_count": null,
   "id": "f66e90e6",
   "metadata": {},
   "outputs": [],
   "source": [
    "df[df['count']==1].head()"
   ]
  },
  {
   "cell_type": "code",
   "execution_count": null,
   "id": "8153f884-f76d-43ec-a384-4de23b31643d",
   "metadata": {},
   "outputs": [],
   "source": [
    "texts = df[df['count']>=2].Model.tolist()\n",
    "texts[:5]"
   ]
  },
  {
   "cell_type": "code",
   "execution_count": null,
   "id": "304a1cd8-8f4f-43d2-a957-e0718d7116e1",
   "metadata": {},
   "outputs": [],
   "source": [
    "all_texts = texts[0]\n",
    "for i in texts[1:]:\n",
    "    all_texts += \" \" + i"
   ]
  },
  {
   "cell_type": "code",
   "execution_count": null,
   "id": "b6409159-deaa-4b2d-b96c-871af959f848",
   "metadata": {},
   "outputs": [],
   "source": [
    "all_texts = list(set(all_texts.split(' ')))\n",
    "all_texts.append(\"<PAD>\")\n",
    "all_texts = set(all_texts)\n",
    "len(all_texts)"
   ]
  },
  {
   "cell_type": "code",
   "execution_count": null,
   "id": "bccff356-b8d8-4a93-b1f1-932d67cabf93",
   "metadata": {},
   "outputs": [],
   "source": [
    "text_to_id = {c: i for i, c in enumerate(all_texts)}\n",
    "id_to_text = {i: c for i, c in enumerate(all_texts)}"
   ]
  },
  {
   "cell_type": "code",
   "execution_count": null,
   "id": "e99f50ee-346c-476b-8de4-f11851e64ac8",
   "metadata": {},
   "outputs": [],
   "source": [
    "df['Model'] = df['Model'].astype(str).apply(lambda x: \"<PAD> <PAD> <PAD> \" + x)\n",
    "df.head()"
   ]
  },
  {
   "cell_type": "code",
   "execution_count": null,
   "id": "bbd5c391-5356-472c-8b10-696975876b4f",
   "metadata": {},
   "outputs": [],
   "source": [
    "df['Model'] = df['Model'].astype(str).apply(lambda x: x.split(' '))\n",
    "df.head()"
   ]
  },
  {
   "cell_type": "code",
   "execution_count": null,
   "id": "a219c974-0f90-4f9d-8e57-d96e93dbf5d9",
   "metadata": {},
   "outputs": [],
   "source": [
    "x = []\n",
    "y = []\n",
    "\n",
    "for values in df['Model'].tolist():\n",
    "    if len(values) == 5:\n",
    "        x.append(\" \".join(values[:4]))\n",
    "        y.append(values[-1])\n",
    "    else:\n",
    "        for i in np.arange(0, len(values)-4, step=1):\n",
    "            x.append(\" \".join(values[i: i+4]))\n",
    "            y.append(\"\".join(values[i+4]))"
   ]
  },
  {
   "cell_type": "code",
   "execution_count": null,
   "id": "f586b560-abd2-443b-9648-cbb81fe178f7",
   "metadata": {},
   "outputs": [],
   "source": [
    "texts = []\n",
    "for text in x:\n",
    "    texts.append([text_to_id[i] for i in text.split(' ')])\n",
    "\n",
    "label = [text_to_id[i] for i in y]\n",
    "texts[:5]"
   ]
  },
  {
   "cell_type": "code",
   "execution_count": null,
   "id": "678f0528-5f2c-467d-8ccf-2fede79b23f2",
   "metadata": {},
   "outputs": [],
   "source": [
    "len(texts)"
   ]
  },
  {
   "cell_type": "code",
   "execution_count": null,
   "id": "cd5bd4dc-b9b5-44d8-b347-783a429bf895",
   "metadata": {},
   "outputs": [],
   "source": [
    "texts = np.array(texts)\n",
    "label = np.array(label)"
   ]
  },
  {
   "cell_type": "code",
   "execution_count": null,
   "id": "abae73be-c93f-440b-b452-668d1fec04ea",
   "metadata": {},
   "outputs": [],
   "source": [
    "texts = texts / len(all_texts)"
   ]
  },
  {
   "cell_type": "code",
   "execution_count": null,
   "id": "34546209-0fd9-452f-813f-5e530729d43c",
   "metadata": {},
   "outputs": [],
   "source": [
    "x = texts.reshape(texts.shape[0], 4, 1)\n",
    "x.shape"
   ]
  },
  {
   "cell_type": "code",
   "execution_count": null,
   "id": "8620de67-19a3-4793-acd4-5e6868322e5d",
   "metadata": {},
   "outputs": [],
   "source": [
    "y = tf.keras.utils.to_categorical(label)\n",
    "y.shape"
   ]
  },
  {
   "cell_type": "markdown",
   "id": "5f9cbb1d-ef16-4a03-920d-856348526f2b",
   "metadata": {},
   "source": [
    "<font size=4 fonc=\"仿宋\" color=blue>第5步：划分训练集与测试集</font>"
   ]
  },
  {
   "cell_type": "code",
   "execution_count": null,
   "id": "5954541a-8b3d-4c2e-b928-a2fe22747645",
   "metadata": {},
   "outputs": [],
   "source": [
    "x_train, x_test, y_train, y_test = train_test_split(x, y, \n",
    "                                                    test_size=0.2, \n",
    "                                                    random_state=2021)"
   ]
  },
  {
   "cell_type": "markdown",
   "id": "1f303142-2d7d-4d7e-85c9-069092340bf3",
   "metadata": {},
   "source": [
    "<font size=4 fonc=\"仿宋\" color=blue>第6步：构建模型</font>"
   ]
  },
  {
   "cell_type": "code",
   "execution_count": null,
   "id": "d1948314-1802-465a-ae70-22c24f89bbed",
   "metadata": {},
   "outputs": [],
   "source": [
    "model = Sequential([\n",
    "    layers.LSTM(units=800, input_shape=(4, 1), return_sequences=True),\n",
    "    layers.Dropout(0.3),\n",
    "    layers.LSTM(units=800, return_sequences=True),\n",
    "    layers.Dropout(0.2),\n",
    "    layers.LSTM(units=800),\n",
    "    layers.Dropout(0.2),\n",
    "    layers.Dense(y.shape[1], activation='softmax')\n",
    "])"
   ]
  },
  {
   "cell_type": "code",
   "execution_count": null,
   "id": "b562f841-b40b-43cf-a85a-22f02005da55",
   "metadata": {},
   "outputs": [],
   "source": [
    "model.compile(optimizer='adam', \n",
    "              loss='categorical_crossentropy', \n",
    "              metrics=['accuracy'])"
   ]
  },
  {
   "cell_type": "code",
   "execution_count": null,
   "id": "63a6a4f7-aa5c-497c-b0f6-eec23a17a66e",
   "metadata": {},
   "outputs": [],
   "source": [
    "model.summary()"
   ]
  },
  {
   "cell_type": "code",
   "execution_count": null,
   "id": "b53d395b-106c-4f64-aaf2-13fb2ffe360e",
   "metadata": {},
   "outputs": [],
   "source": [
    "model.fit(x, y, \n",
    "#           validation_data=(x_test, y_test),\n",
    "          epochs=500, \n",
    "          batch_size=64)"
   ]
  },
  {
   "cell_type": "code",
   "execution_count": null,
   "id": "3898c93a-534c-4676-aab5-9e5c68cef9e7",
   "metadata": {},
   "outputs": [],
   "source": []
  },
  {
   "cell_type": "code",
   "execution_count": null,
   "id": "10c05509-c734-4111-b051-2035e942d47a",
   "metadata": {},
   "outputs": [],
   "source": []
  },
  {
   "cell_type": "code",
   "execution_count": null,
   "id": "57e7c649-ae63-467a-90ff-2b9c48ae4dc7",
   "metadata": {},
   "outputs": [],
   "source": []
  }
 ],
 "metadata": {
  "kernelspec": {
   "display_name": "tensorflow",
   "language": "python",
   "name": "tensorflow"
  },
  "language_info": {
   "codemirror_mode": {
    "name": "ipython",
    "version": 3
   },
   "file_extension": ".py",
   "mimetype": "text/x-python",
   "name": "python",
   "nbconvert_exporter": "python",
   "pygments_lexer": "ipython3",
   "version": "3.7.11"
  },
  "toc": {
   "base_numbering": 1,
   "nav_menu": {},
   "number_sections": true,
   "sideBar": true,
   "skip_h1_title": false,
   "title_cell": "Table of Contents",
   "title_sidebar": "Contents",
   "toc_cell": false,
   "toc_position": {},
   "toc_section_display": true,
   "toc_window_display": false
  }
 },
 "nbformat": 4,
 "nbformat_minor": 5
}
