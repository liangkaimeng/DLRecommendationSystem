{
 "cells": [
  {
   "cell_type": "markdown",
   "id": "ec166615-6a19-4503-81fd-8a4f39c7fbb8",
   "metadata": {},
   "source": [
    "<font size=4 fonc=\"仿宋\" color=white>第1步：导入模块与设置环境</font>"
   ]
  },
  {
   "cell_type": "code",
   "execution_count": 2,
   "id": "e5020998-d393-4d45-baac-29102e3c957b",
   "metadata": {},
   "outputs": [
    {
     "name": "stdout",
     "output_type": "stream",
     "text": [
      "Wall time: 0 ns\n"
     ]
    }
   ],
   "source": [
    "%%time\n",
    "import warnings\n",
    "warnings.filterwarnings(\"ignore\")\n",
    "\n",
    "import os\n",
    "import numpy as np\n",
    "import pandas as pd\n",
    "import tensorflow as tf\n",
    "from tensorflow.keras import Sequential, layers, utils\n",
    "from sklearn.model_selection import train_test_split\n",
    "\n",
    "os.environ[\"CUDA_VISIBLE_DEVICES\"] = \"0\""
   ]
  },
  {
   "cell_type": "markdown",
   "id": "ea402b74-03e5-41d9-a11c-0c196043fc19",
   "metadata": {},
   "source": [
    "<font size=4 fonc=\"仿宋\" color=white>第2步：加载数据</font>"
   ]
  },
  {
   "cell_type": "code",
   "execution_count": 3,
   "id": "92dd1d19-d61d-4f6a-9353-e3e9564fadd4",
   "metadata": {},
   "outputs": [
    {
     "name": "stdout",
     "output_type": "stream",
     "text": [
      "Wall time: 103 ms\n"
     ]
    },
    {
     "data": {
      "text/html": [
       "<div>\n",
       "<style scoped>\n",
       "    .dataframe tbody tr th:only-of-type {\n",
       "        vertical-align: middle;\n",
       "    }\n",
       "\n",
       "    .dataframe tbody tr th {\n",
       "        vertical-align: top;\n",
       "    }\n",
       "\n",
       "    .dataframe thead th {\n",
       "        text-align: right;\n",
       "    }\n",
       "</style>\n",
       "<table border=\"1\" class=\"dataframe\">\n",
       "  <thead>\n",
       "    <tr style=\"text-align: right;\">\n",
       "      <th></th>\n",
       "      <th>OrderNumber</th>\n",
       "      <th>LineNumber</th>\n",
       "      <th>Model</th>\n",
       "    </tr>\n",
       "  </thead>\n",
       "  <tbody>\n",
       "    <tr>\n",
       "      <th>0</th>\n",
       "      <td>cumid51178</td>\n",
       "      <td>1</td>\n",
       "      <td>山地英骑</td>\n",
       "    </tr>\n",
       "    <tr>\n",
       "      <th>1</th>\n",
       "      <td>cumid51178</td>\n",
       "      <td>2</td>\n",
       "      <td>山地车水壶架</td>\n",
       "    </tr>\n",
       "    <tr>\n",
       "      <th>2</th>\n",
       "      <td>cumid51178</td>\n",
       "      <td>3</td>\n",
       "      <td>运动水壶</td>\n",
       "    </tr>\n",
       "    <tr>\n",
       "      <th>3</th>\n",
       "      <td>cumid51184</td>\n",
       "      <td>1</td>\n",
       "      <td>山地英骑</td>\n",
       "    </tr>\n",
       "    <tr>\n",
       "      <th>4</th>\n",
       "      <td>cumid51184</td>\n",
       "      <td>2</td>\n",
       "      <td>hl山地外胎</td>\n",
       "    </tr>\n",
       "  </tbody>\n",
       "</table>\n",
       "</div>"
      ],
      "text/plain": [
       "  OrderNumber  LineNumber   Model\n",
       "0  cumid51178           1    山地英骑\n",
       "1  cumid51178           2  山地车水壶架\n",
       "2  cumid51178           3    运动水壶\n",
       "3  cumid51184           1    山地英骑\n",
       "4  cumid51184           2  hl山地外胎"
      ]
     },
     "execution_count": 3,
     "metadata": {},
     "output_type": "execute_result"
    }
   ],
   "source": [
    "%%time\n",
    "data = pd.read_csv(\"bike_data.csv\", encoding=\"gbk\")\n",
    "data.head()"
   ]
  },
  {
   "cell_type": "markdown",
   "id": "7d645734-e34a-4ba1-8488-1b8873883e4f",
   "metadata": {},
   "source": [
    "<font size=4 fonc=\"仿宋\" color=white>第3步：数据清洗</font>"
   ]
  },
  {
   "cell_type": "code",
   "execution_count": 4,
   "id": "bc39eaaa-54d2-4b3e-8cb6-8dba8aa8ce5e",
   "metadata": {},
   "outputs": [
    {
     "data": {
      "text/plain": [
       "['山地英骑',\n",
       " '山地车水壶架',\n",
       " '运动水壶',\n",
       " 'hl山地外胎',\n",
       " '山地车内胎',\n",
       " '运动型头盔',\n",
       " '普通公路车',\n",
       " '公路车内胎',\n",
       " 'hl公路外胎',\n",
       " '竞速公路车',\n",
       " '公路车水壶架',\n",
       " '长袖骑车衣',\n",
       " '山地车挡泥板',\n",
       " '自行车帽',\n",
       " '山地车400',\n",
       " 'ml山地外胎',\n",
       " '修补工具',\n",
       " '山地车500',\n",
       " '公路车550',\n",
       " '短袖经典车衣',\n",
       " '旅游型自行车(大)',\n",
       " '竞速袜',\n",
       " '半掌手套',\n",
       " '公路车350',\n",
       " 'ml公路外胎',\n",
       " '水壶包',\n",
       " '旅游型自行车(小)',\n",
       " '旅游型自行车(中)',\n",
       " '旅游车内胎',\n",
       " 'll公路车外胎',\n",
       " '旅游自行车外胎(通用)',\n",
       " '万能自行车座',\n",
       " '洗车喷剂',\n",
       " '经典背心',\n",
       " 'll山地胎',\n",
       " '故障栓钩',\n",
       " \"Women's Mountain Shorts\"]"
      ]
     },
     "execution_count": 4,
     "metadata": {},
     "output_type": "execute_result"
    }
   ],
   "source": [
    "data.Model.unique().tolist()"
   ]
  },
  {
   "cell_type": "code",
   "execution_count": 5,
   "id": "528fbc1a-6432-4035-be6a-f352416f534f",
   "metadata": {},
   "outputs": [],
   "source": [
    "data['Model'] = data['Model'].astype(str).apply(lambda x: x.replace(\"Women's Mountain Shorts\", '未知名称'))"
   ]
  },
  {
   "cell_type": "code",
   "execution_count": 6,
   "id": "0e372ad2-509a-435d-8233-2a9b89b12a62",
   "metadata": {},
   "outputs": [],
   "source": [
    "data['Model'] = data['Model'].astype(str).apply(lambda x: x.replace(\"(\", \"\"))\n",
    "data['Model'] = data['Model'].astype(str).apply(lambda x: x.replace(\")\", \"\"))"
   ]
  },
  {
   "cell_type": "code",
   "execution_count": 7,
   "id": "bd8afbb6-7e26-4595-a54e-06f257160e46",
   "metadata": {},
   "outputs": [
    {
     "data": {
      "text/html": [
       "<div>\n",
       "<style scoped>\n",
       "    .dataframe tbody tr th:only-of-type {\n",
       "        vertical-align: middle;\n",
       "    }\n",
       "\n",
       "    .dataframe tbody tr th {\n",
       "        vertical-align: top;\n",
       "    }\n",
       "\n",
       "    .dataframe thead th {\n",
       "        text-align: right;\n",
       "    }\n",
       "</style>\n",
       "<table border=\"1\" class=\"dataframe\">\n",
       "  <thead>\n",
       "    <tr style=\"text-align: right;\">\n",
       "      <th></th>\n",
       "      <th>OrderNumber</th>\n",
       "      <th>LineNumber</th>\n",
       "      <th>Model</th>\n",
       "    </tr>\n",
       "  </thead>\n",
       "  <tbody>\n",
       "    <tr>\n",
       "      <th>0</th>\n",
       "      <td>cumid51178</td>\n",
       "      <td>1</td>\n",
       "      <td>山地英骑</td>\n",
       "    </tr>\n",
       "    <tr>\n",
       "      <th>1</th>\n",
       "      <td>cumid51178</td>\n",
       "      <td>2</td>\n",
       "      <td>山地车水壶架</td>\n",
       "    </tr>\n",
       "    <tr>\n",
       "      <th>2</th>\n",
       "      <td>cumid51178</td>\n",
       "      <td>3</td>\n",
       "      <td>运动水壶</td>\n",
       "    </tr>\n",
       "    <tr>\n",
       "      <th>3</th>\n",
       "      <td>cumid51184</td>\n",
       "      <td>1</td>\n",
       "      <td>山地英骑</td>\n",
       "    </tr>\n",
       "    <tr>\n",
       "      <th>4</th>\n",
       "      <td>cumid51184</td>\n",
       "      <td>2</td>\n",
       "      <td>hl山地外胎</td>\n",
       "    </tr>\n",
       "  </tbody>\n",
       "</table>\n",
       "</div>"
      ],
      "text/plain": [
       "  OrderNumber  LineNumber    Model\n",
       "0  cumid51178           1    山地英骑 \n",
       "1  cumid51178           2  山地车水壶架 \n",
       "2  cumid51178           3    运动水壶 \n",
       "3  cumid51184           1    山地英骑 \n",
       "4  cumid51184           2  hl山地外胎 "
      ]
     },
     "execution_count": 7,
     "metadata": {},
     "output_type": "execute_result"
    }
   ],
   "source": [
    "data['Model'] = data['Model'].astype(str).apply(lambda x: x + \" \")\n",
    "data.head()"
   ]
  },
  {
   "cell_type": "markdown",
   "id": "eca46008-6897-4bb9-836e-377850612e88",
   "metadata": {},
   "source": [
    "<font size=4 fonc=\"仿宋\" color=white>第4步：合并数据集，形成长文本</font>"
   ]
  },
  {
   "cell_type": "code",
   "execution_count": 8,
   "id": "fc078b79-465f-497a-a060-c6038887c662",
   "metadata": {},
   "outputs": [
    {
     "name": "stdout",
     "output_type": "stream",
     "text": [
      "Wall time: 4.51 s\n"
     ]
    },
    {
     "data": {
      "text/html": [
       "<div>\n",
       "<style scoped>\n",
       "    .dataframe tbody tr th:only-of-type {\n",
       "        vertical-align: middle;\n",
       "    }\n",
       "\n",
       "    .dataframe tbody tr th {\n",
       "        vertical-align: top;\n",
       "    }\n",
       "\n",
       "    .dataframe thead th {\n",
       "        text-align: right;\n",
       "    }\n",
       "</style>\n",
       "<table border=\"1\" class=\"dataframe\">\n",
       "  <thead>\n",
       "    <tr style=\"text-align: right;\">\n",
       "      <th></th>\n",
       "      <th>OrderNumber</th>\n",
       "      <th>Model</th>\n",
       "    </tr>\n",
       "  </thead>\n",
       "  <tbody>\n",
       "    <tr>\n",
       "      <th>0</th>\n",
       "      <td>cumid51176</td>\n",
       "      <td>普通公路车 公路车水壶架</td>\n",
       "    </tr>\n",
       "    <tr>\n",
       "      <th>1</th>\n",
       "      <td>cumid51177</td>\n",
       "      <td>运动型头盔 旅游型自行车中</td>\n",
       "    </tr>\n",
       "    <tr>\n",
       "      <th>2</th>\n",
       "      <td>cumid51178</td>\n",
       "      <td>山地英骑 山地车水壶架 运动水壶</td>\n",
       "    </tr>\n",
       "    <tr>\n",
       "      <th>3</th>\n",
       "      <td>cumid51179</td>\n",
       "      <td>万能自行车座 公路车内胎 hl公路外胎 普通公路车</td>\n",
       "    </tr>\n",
       "    <tr>\n",
       "      <th>4</th>\n",
       "      <td>cumid51180</td>\n",
       "      <td>普通公路车 公路车水壶架 运动水壶 运动型头盔 长袖骑车衣</td>\n",
       "    </tr>\n",
       "  </tbody>\n",
       "</table>\n",
       "</div>"
      ],
      "text/plain": [
       "  OrderNumber                          Model\n",
       "0  cumid51176                   普通公路车 公路车水壶架\n",
       "1  cumid51177                  运动型头盔 旅游型自行车中\n",
       "2  cumid51178               山地英骑 山地车水壶架 运动水壶\n",
       "3  cumid51179      万能自行车座 公路车内胎 hl公路外胎 普通公路车\n",
       "4  cumid51180  普通公路车 公路车水壶架 运动水壶 运动型头盔 长袖骑车衣"
      ]
     },
     "execution_count": 8,
     "metadata": {},
     "output_type": "execute_result"
    }
   ],
   "source": [
    "%%time\n",
    "df = data.groupby(['OrderNumber'])['Model'].sum().reset_index()\n",
    "df['Model'] = df['Model'].astype(str).apply(lambda x: x.strip())\n",
    "df.head()"
   ]
  },
  {
   "cell_type": "code",
   "execution_count": 9,
   "id": "8153f884-f76d-43ec-a384-4de23b31643d",
   "metadata": {},
   "outputs": [],
   "source": [
    "texts = df.Model.tolist()"
   ]
  },
  {
   "cell_type": "code",
   "execution_count": 10,
   "id": "1962c26e-9eee-4ca2-b005-7cf8ad69c59d",
   "metadata": {},
   "outputs": [
    {
     "data": {
      "text/plain": [
       "['普通公路车 公路车水壶架',\n",
       " '运动型头盔 旅游型自行车中',\n",
       " '山地英骑 山地车水壶架 运动水壶',\n",
       " '万能自行车座 公路车内胎 hl公路外胎 普通公路车',\n",
       " '普通公路车 公路车水壶架 运动水壶 运动型头盔 长袖骑车衣']"
      ]
     },
     "execution_count": 10,
     "metadata": {},
     "output_type": "execute_result"
    }
   ],
   "source": [
    "texts[:5]"
   ]
  },
  {
   "cell_type": "code",
   "execution_count": 11,
   "id": "304a1cd8-8f4f-43d2-a957-e0718d7116e1",
   "metadata": {},
   "outputs": [],
   "source": [
    "all_texts = texts[0]\n",
    "for i in texts[1:]:\n",
    "    all_texts += \" \" + i"
   ]
  },
  {
   "cell_type": "code",
   "execution_count": 12,
   "id": "b6409159-deaa-4b2d-b96c-871af959f848",
   "metadata": {},
   "outputs": [
    {
     "data": {
      "text/plain": [
       "{'<PAD>',\n",
       " 'hl公路外胎',\n",
       " 'hl山地外胎',\n",
       " 'll公路车外胎',\n",
       " 'll山地胎',\n",
       " 'ml公路外胎',\n",
       " 'ml山地外胎',\n",
       " '万能自行车座',\n",
       " '修补工具',\n",
       " '公路车350',\n",
       " '公路车550',\n",
       " '公路车内胎',\n",
       " '公路车水壶架',\n",
       " '半掌手套',\n",
       " '山地英骑',\n",
       " '山地车400',\n",
       " '山地车500',\n",
       " '山地车内胎',\n",
       " '山地车挡泥板',\n",
       " '山地车水壶架',\n",
       " '故障栓钩',\n",
       " '旅游型自行车中',\n",
       " '旅游型自行车大',\n",
       " '旅游型自行车小',\n",
       " '旅游自行车外胎通用',\n",
       " '旅游车内胎',\n",
       " '普通公路车',\n",
       " '未知名称',\n",
       " '水壶包',\n",
       " '洗车喷剂',\n",
       " '短袖经典车衣',\n",
       " '竞速公路车',\n",
       " '竞速袜',\n",
       " '经典背心',\n",
       " '自行车帽',\n",
       " '运动型头盔',\n",
       " '运动水壶',\n",
       " '长袖骑车衣'}"
      ]
     },
     "execution_count": 12,
     "metadata": {},
     "output_type": "execute_result"
    }
   ],
   "source": [
    "all_texts = list(set(all_texts.split(' ')))\n",
    "all_texts.append(\"<PAD>\")\n",
    "all_texts = set(all_texts)\n",
    "all_texts"
   ]
  },
  {
   "cell_type": "code",
   "execution_count": 13,
   "id": "0eff9e29-41b7-4368-a13f-9548a7b301cc",
   "metadata": {},
   "outputs": [
    {
     "data": {
      "text/plain": [
       "38"
      ]
     },
     "execution_count": 13,
     "metadata": {},
     "output_type": "execute_result"
    }
   ],
   "source": [
    "len(all_texts)"
   ]
  },
  {
   "cell_type": "code",
   "execution_count": 14,
   "id": "bccff356-b8d8-4a93-b1f1-932d67cabf93",
   "metadata": {},
   "outputs": [],
   "source": [
    "text_to_id = {c: i for i, c in enumerate(all_texts)}\n",
    "id_to_text = {i: c for i, c in enumerate(all_texts)}"
   ]
  },
  {
   "cell_type": "code",
   "execution_count": 15,
   "id": "e99f50ee-346c-476b-8de4-f11851e64ac8",
   "metadata": {},
   "outputs": [
    {
     "data": {
      "text/html": [
       "<div>\n",
       "<style scoped>\n",
       "    .dataframe tbody tr th:only-of-type {\n",
       "        vertical-align: middle;\n",
       "    }\n",
       "\n",
       "    .dataframe tbody tr th {\n",
       "        vertical-align: top;\n",
       "    }\n",
       "\n",
       "    .dataframe thead th {\n",
       "        text-align: right;\n",
       "    }\n",
       "</style>\n",
       "<table border=\"1\" class=\"dataframe\">\n",
       "  <thead>\n",
       "    <tr style=\"text-align: right;\">\n",
       "      <th></th>\n",
       "      <th>OrderNumber</th>\n",
       "      <th>Model</th>\n",
       "    </tr>\n",
       "  </thead>\n",
       "  <tbody>\n",
       "    <tr>\n",
       "      <th>0</th>\n",
       "      <td>cumid51176</td>\n",
       "      <td>&lt;PAD&gt; &lt;PAD&gt; 普通公路车 公路车水壶架</td>\n",
       "    </tr>\n",
       "    <tr>\n",
       "      <th>1</th>\n",
       "      <td>cumid51177</td>\n",
       "      <td>&lt;PAD&gt; &lt;PAD&gt; 运动型头盔 旅游型自行车中</td>\n",
       "    </tr>\n",
       "    <tr>\n",
       "      <th>2</th>\n",
       "      <td>cumid51178</td>\n",
       "      <td>&lt;PAD&gt; &lt;PAD&gt; 山地英骑 山地车水壶架 运动水壶</td>\n",
       "    </tr>\n",
       "    <tr>\n",
       "      <th>3</th>\n",
       "      <td>cumid51179</td>\n",
       "      <td>&lt;PAD&gt; &lt;PAD&gt; 万能自行车座 公路车内胎 hl公路外胎 普通公路车</td>\n",
       "    </tr>\n",
       "    <tr>\n",
       "      <th>4</th>\n",
       "      <td>cumid51180</td>\n",
       "      <td>&lt;PAD&gt; &lt;PAD&gt; 普通公路车 公路车水壶架 运动水壶 运动型头盔 长袖骑车衣</td>\n",
       "    </tr>\n",
       "  </tbody>\n",
       "</table>\n",
       "</div>"
      ],
      "text/plain": [
       "  OrderNumber                                      Model\n",
       "0  cumid51176                   <PAD> <PAD> 普通公路车 公路车水壶架\n",
       "1  cumid51177                  <PAD> <PAD> 运动型头盔 旅游型自行车中\n",
       "2  cumid51178               <PAD> <PAD> 山地英骑 山地车水壶架 运动水壶\n",
       "3  cumid51179      <PAD> <PAD> 万能自行车座 公路车内胎 hl公路外胎 普通公路车\n",
       "4  cumid51180  <PAD> <PAD> 普通公路车 公路车水壶架 运动水壶 运动型头盔 长袖骑车衣"
      ]
     },
     "execution_count": 15,
     "metadata": {},
     "output_type": "execute_result"
    }
   ],
   "source": [
    "def add_string(string):\n",
    "    if len(string.split(\" \"))==1:\n",
    "        return \"<PAD> <PAD> <PAD> \" + string\n",
    "    else:\n",
    "        return \"<PAD> <PAD> \" + string\n",
    "\n",
    "\n",
    "df['Model'] = df['Model'].astype(str).apply(add_string)\n",
    "df.head()"
   ]
  },
  {
   "cell_type": "code",
   "execution_count": 16,
   "id": "bbd5c391-5356-472c-8b10-696975876b4f",
   "metadata": {},
   "outputs": [
    {
     "data": {
      "text/html": [
       "<div>\n",
       "<style scoped>\n",
       "    .dataframe tbody tr th:only-of-type {\n",
       "        vertical-align: middle;\n",
       "    }\n",
       "\n",
       "    .dataframe tbody tr th {\n",
       "        vertical-align: top;\n",
       "    }\n",
       "\n",
       "    .dataframe thead th {\n",
       "        text-align: right;\n",
       "    }\n",
       "</style>\n",
       "<table border=\"1\" class=\"dataframe\">\n",
       "  <thead>\n",
       "    <tr style=\"text-align: right;\">\n",
       "      <th></th>\n",
       "      <th>OrderNumber</th>\n",
       "      <th>Model</th>\n",
       "    </tr>\n",
       "  </thead>\n",
       "  <tbody>\n",
       "    <tr>\n",
       "      <th>0</th>\n",
       "      <td>cumid51176</td>\n",
       "      <td>[&lt;PAD&gt;, &lt;PAD&gt;, 普通公路车, 公路车水壶架]</td>\n",
       "    </tr>\n",
       "    <tr>\n",
       "      <th>1</th>\n",
       "      <td>cumid51177</td>\n",
       "      <td>[&lt;PAD&gt;, &lt;PAD&gt;, 运动型头盔, 旅游型自行车中]</td>\n",
       "    </tr>\n",
       "    <tr>\n",
       "      <th>2</th>\n",
       "      <td>cumid51178</td>\n",
       "      <td>[&lt;PAD&gt;, &lt;PAD&gt;, 山地英骑, 山地车水壶架, 运动水壶]</td>\n",
       "    </tr>\n",
       "    <tr>\n",
       "      <th>3</th>\n",
       "      <td>cumid51179</td>\n",
       "      <td>[&lt;PAD&gt;, &lt;PAD&gt;, 万能自行车座, 公路车内胎, hl公路外胎, 普通公路车]</td>\n",
       "    </tr>\n",
       "    <tr>\n",
       "      <th>4</th>\n",
       "      <td>cumid51180</td>\n",
       "      <td>[&lt;PAD&gt;, &lt;PAD&gt;, 普通公路车, 公路车水壶架, 运动水壶, 运动型头盔, 长袖骑车衣]</td>\n",
       "    </tr>\n",
       "  </tbody>\n",
       "</table>\n",
       "</div>"
      ],
      "text/plain": [
       "  OrderNumber                                              Model\n",
       "0  cumid51176                      [<PAD>, <PAD>, 普通公路车, 公路车水壶架]\n",
       "1  cumid51177                     [<PAD>, <PAD>, 运动型头盔, 旅游型自行车中]\n",
       "2  cumid51178                 [<PAD>, <PAD>, 山地英骑, 山地车水壶架, 运动水壶]\n",
       "3  cumid51179       [<PAD>, <PAD>, 万能自行车座, 公路车内胎, hl公路外胎, 普通公路车]\n",
       "4  cumid51180  [<PAD>, <PAD>, 普通公路车, 公路车水壶架, 运动水壶, 运动型头盔, 长袖骑车衣]"
      ]
     },
     "execution_count": 16,
     "metadata": {},
     "output_type": "execute_result"
    }
   ],
   "source": [
    "df['Model'] = df['Model'].astype(str).apply(lambda x: x.split(' '))\n",
    "df.head()"
   ]
  },
  {
   "cell_type": "code",
   "execution_count": 17,
   "id": "a219c974-0f90-4f9d-8e57-d96e93dbf5d9",
   "metadata": {},
   "outputs": [],
   "source": [
    "x = []\n",
    "y = []\n",
    "\n",
    "for values in df['Model'].tolist():\n",
    "    if len(values) == 4:\n",
    "        x.append(\" \".join(values[:3]))\n",
    "        y.append(values[-1])\n",
    "    else:\n",
    "        for i in np.arange(0, len(values)-3, step=1):\n",
    "            x.append(\" \".join(values[i: i+3]))\n",
    "            y.append(\"\".join(values[i+3]))"
   ]
  },
  {
   "cell_type": "code",
   "execution_count": 18,
   "id": "f586b560-abd2-443b-9648-cbb81fe178f7",
   "metadata": {},
   "outputs": [
    {
     "data": {
      "text/plain": [
       "[[37, 37, 12], [37, 37, 30], [37, 37, 9], [37, 9, 25], [37, 37, 3]]"
      ]
     },
     "execution_count": 18,
     "metadata": {},
     "output_type": "execute_result"
    }
   ],
   "source": [
    "texts = []\n",
    "for text in x:\n",
    "    texts.append([text_to_id[i] for i in text.split(' ')])\n",
    "\n",
    "label = [text_to_id[i] for i in y]\n",
    "texts[:5]"
   ]
  },
  {
   "cell_type": "code",
   "execution_count": 19,
   "id": "678f0528-5f2c-467d-8ccf-2fede79b23f2",
   "metadata": {},
   "outputs": [
    {
     "data": {
      "text/plain": [
       "35503"
      ]
     },
     "execution_count": 19,
     "metadata": {},
     "output_type": "execute_result"
    }
   ],
   "source": [
    "len(texts)"
   ]
  },
  {
   "cell_type": "code",
   "execution_count": 20,
   "id": "cd5bd4dc-b9b5-44d8-b347-783a429bf895",
   "metadata": {},
   "outputs": [],
   "source": [
    "texts = np.array(texts)\n",
    "label = np.array(label)"
   ]
  },
  {
   "cell_type": "code",
   "execution_count": 21,
   "id": "abae73be-c93f-440b-b452-668d1fec04ea",
   "metadata": {},
   "outputs": [],
   "source": [
    "texts = texts / len(all_texts)"
   ]
  },
  {
   "cell_type": "code",
   "execution_count": 22,
   "id": "34546209-0fd9-452f-813f-5e530729d43c",
   "metadata": {},
   "outputs": [
    {
     "data": {
      "text/plain": [
       "(35503, 3, 1)"
      ]
     },
     "execution_count": 22,
     "metadata": {},
     "output_type": "execute_result"
    }
   ],
   "source": [
    "x = texts.reshape(texts.shape[0], 3, 1)\n",
    "x.shape"
   ]
  },
  {
   "cell_type": "code",
   "execution_count": 23,
   "id": "8620de67-19a3-4793-acd4-5e6868322e5d",
   "metadata": {},
   "outputs": [
    {
     "data": {
      "text/plain": [
       "(35503, 37)"
      ]
     },
     "execution_count": 23,
     "metadata": {},
     "output_type": "execute_result"
    }
   ],
   "source": [
    "y = tf.keras.utils.to_categorical(label)\n",
    "y.shape"
   ]
  },
  {
   "cell_type": "markdown",
   "id": "5f9cbb1d-ef16-4a03-920d-856348526f2b",
   "metadata": {},
   "source": [
    "<font size=4 fonc=\"仿宋\" color=white>第5步：划分训练集与测试集</font>"
   ]
  },
  {
   "cell_type": "code",
   "execution_count": 24,
   "id": "5954541a-8b3d-4c2e-b928-a2fe22747645",
   "metadata": {},
   "outputs": [],
   "source": [
    "x_train, x_test, y_train, y_test = train_test_split(x, y, \n",
    "                                                    test_size=0.2, \n",
    "                                                    random_state=2021)"
   ]
  },
  {
   "cell_type": "markdown",
   "id": "1f303142-2d7d-4d7e-85c9-069092340bf3",
   "metadata": {},
   "source": [
    "<font size=4 fonc=\"仿宋\" color=white>第6步：构建模型</font>"
   ]
  },
  {
   "cell_type": "code",
   "execution_count": 25,
   "id": "d1948314-1802-465a-ae70-22c24f89bbed",
   "metadata": {},
   "outputs": [],
   "source": [
    "model = Sequential([\n",
    "    layers.LSTM(units=800, input_shape=(3, 1), return_sequences=True),\n",
    "    layers.Dropout(0.3),\n",
    "    layers.LSTM(units=800, return_sequences=True),\n",
    "    layers.Dropout(0.2),\n",
    "    layers.LSTM(units=800),\n",
    "    layers.Dropout(0.2),\n",
    "    layers.Dense(y.shape[1], activation='softmax')\n",
    "])"
   ]
  },
  {
   "cell_type": "code",
   "execution_count": 26,
   "id": "b562f841-b40b-43cf-a85a-22f02005da55",
   "metadata": {},
   "outputs": [],
   "source": [
    "model.compile(optimizer='adam', \n",
    "              loss='categorical_crossentropy', \n",
    "              metrics=['accuracy'])"
   ]
  },
  {
   "cell_type": "code",
   "execution_count": 27,
   "id": "63a6a4f7-aa5c-497c-b0f6-eec23a17a66e",
   "metadata": {},
   "outputs": [
    {
     "name": "stdout",
     "output_type": "stream",
     "text": [
      "Model: \"sequential\"\n",
      "_________________________________________________________________\n",
      "Layer (type)                 Output Shape              Param #   \n",
      "=================================================================\n",
      "lstm (LSTM)                  (None, 3, 800)            2566400   \n",
      "_________________________________________________________________\n",
      "dropout (Dropout)            (None, 3, 800)            0         \n",
      "_________________________________________________________________\n",
      "lstm_1 (LSTM)                (None, 3, 800)            5123200   \n",
      "_________________________________________________________________\n",
      "dropout_1 (Dropout)          (None, 3, 800)            0         \n",
      "_________________________________________________________________\n",
      "lstm_2 (LSTM)                (None, 800)               5123200   \n",
      "_________________________________________________________________\n",
      "dropout_2 (Dropout)          (None, 800)               0         \n",
      "_________________________________________________________________\n",
      "dense (Dense)                (None, 37)                29637     \n",
      "=================================================================\n",
      "Total params: 12,842,437\n",
      "Trainable params: 12,842,437\n",
      "Non-trainable params: 0\n",
      "_________________________________________________________________\n"
     ]
    }
   ],
   "source": [
    "model.summary()"
   ]
  },
  {
   "cell_type": "code",
   "execution_count": null,
   "id": "b53d395b-106c-4f64-aaf2-13fb2ffe360e",
   "metadata": {},
   "outputs": [
    {
     "name": "stdout",
     "output_type": "stream",
     "text": [
      "Epoch 1/500\n",
      "444/444 [==============================] - 416s 912ms/step - loss: 3.0690 - accuracy: 0.1763 - val_loss: 2.9468 - val_accuracy: 0.1810\n",
      "Epoch 2/500\n",
      "444/444 [==============================] - 388s 873ms/step - loss: 2.8414 - accuracy: 0.1953 - val_loss: 2.7676 - val_accuracy: 0.1984\n",
      "Epoch 3/500\n",
      "444/444 [==============================] - 365s 822ms/step - loss: 2.6870 - accuracy: 0.2150 - val_loss: 2.5723 - val_accuracy: 0.2346\n",
      "Epoch 4/500\n",
      "444/444 [==============================] - 329s 740ms/step - loss: 2.5604 - accuracy: 0.2430 - val_loss: 2.5781 - val_accuracy: 0.2728\n",
      "Epoch 5/500\n",
      "444/444 [==============================] - 325s 731ms/step - loss: 2.4916 - accuracy: 0.2578 - val_loss: 2.3964 - val_accuracy: 0.2936\n",
      "Epoch 6/500\n",
      "444/444 [==============================] - 318s 716ms/step - loss: 2.4403 - accuracy: 0.2692 - val_loss: 2.3989 - val_accuracy: 0.2915\n",
      "Epoch 7/500\n",
      "444/444 [==============================] - 319s 718ms/step - loss: 2.3910 - accuracy: 0.2785 - val_loss: 2.3449 - val_accuracy: 0.3022\n",
      "Epoch 8/500\n",
      "444/444 [==============================] - 320s 720ms/step - loss: 2.3433 - accuracy: 0.2937 - val_loss: 2.2603 - val_accuracy: 0.3277\n",
      "Epoch 9/500\n",
      "444/444 [==============================] - 345s 778ms/step - loss: 2.3171 - accuracy: 0.2956 - val_loss: 2.2652 - val_accuracy: 0.3193\n",
      "Epoch 10/500\n",
      "444/444 [==============================] - 362s 816ms/step - loss: 2.2842 - accuracy: 0.3047 - val_loss: 2.2156 - val_accuracy: 0.3295\n",
      "Epoch 11/500\n",
      "444/444 [==============================] - 332s 747ms/step - loss: 2.2665 - accuracy: 0.3085 - val_loss: 2.1923 - val_accuracy: 0.3366\n",
      "Epoch 12/500\n",
      "444/444 [==============================] - 310s 699ms/step - loss: 2.2435 - accuracy: 0.3118 - val_loss: 2.1933 - val_accuracy: 0.3391\n",
      "Epoch 13/500\n",
      "444/444 [==============================] - 340s 765ms/step - loss: 2.2278 - accuracy: 0.3137 - val_loss: 2.2210 - val_accuracy: 0.3128\n",
      "Epoch 14/500\n",
      "444/444 [==============================] - 339s 765ms/step - loss: 2.2145 - accuracy: 0.3169 - val_loss: 2.1849 - val_accuracy: 0.3360\n",
      "Epoch 15/500\n",
      "185/444 [===========>..................] - ETA: 2:55 - loss: 2.1960 - accuracy: 0.3224"
     ]
    }
   ],
   "source": [
    "model.fit(x_train, y_train, \n",
    "          validation_data=(x_test, y_test),\n",
    "          epochs=500, \n",
    "          batch_size=64)"
   ]
  },
  {
   "cell_type": "code",
   "execution_count": null,
   "id": "3898c93a-534c-4676-aab5-9e5c68cef9e7",
   "metadata": {},
   "outputs": [],
   "source": []
  },
  {
   "cell_type": "code",
   "execution_count": null,
   "id": "10c05509-c734-4111-b051-2035e942d47a",
   "metadata": {},
   "outputs": [],
   "source": []
  },
  {
   "cell_type": "code",
   "execution_count": null,
   "id": "57e7c649-ae63-467a-90ff-2b9c48ae4dc7",
   "metadata": {},
   "outputs": [],
   "source": []
  }
 ],
 "metadata": {
  "kernelspec": {
   "display_name": "Python 3",
   "language": "python",
   "name": "python3"
  },
  "language_info": {
   "codemirror_mode": {
    "name": "ipython",
    "version": 3
   },
   "file_extension": ".py",
   "mimetype": "text/x-python",
   "name": "python",
   "nbconvert_exporter": "python",
   "pygments_lexer": "ipython3",
   "version": "3.8.8"
  },
  "toc": {
   "base_numbering": 1,
   "nav_menu": {},
   "number_sections": true,
   "sideBar": true,
   "skip_h1_title": false,
   "title_cell": "Table of Contents",
   "title_sidebar": "Contents",
   "toc_cell": false,
   "toc_position": {},
   "toc_section_display": true,
   "toc_window_display": false
  }
 },
 "nbformat": 4,
 "nbformat_minor": 5
}
